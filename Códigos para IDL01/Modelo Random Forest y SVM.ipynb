{
 "cells": [
  {
   "cell_type": "markdown",
   "id": "d9434d4f",
   "metadata": {},
   "source": [
    "# MODELO DE CLASIFICACIÓN BINARIA PARA PREDECIR RENUNCIA DE EMPLEADOS"
   ]
  },
  {
   "cell_type": "code",
   "execution_count": 18,
   "id": "ee604e99",
   "metadata": {},
   "outputs": [],
   "source": [
    "import pandas as pd\n",
    "import joblib\n",
    "import os"
   ]
  },
  {
   "cell_type": "code",
   "execution_count": 23,
   "id": "9750da61",
   "metadata": {},
   "outputs": [],
   "source": [
    "# Ruta de los archivos\n",
    "ruta_data = \"../Data_sintetica/empleados_belcorp.csv\"\n",
    "ruta_modelo_rf = \"../Modelos entrenamiento PKL - Para RF Y SVM/modelo_rf_empleados.pkl\"\n",
    "ruta_modelo_svm = \"../Modelos entrenamiento PKL - Para RF Y SVM/modelo_svm_empleados.pkl\""
   ]
  },
  {
   "cell_type": "code",
   "execution_count": 24,
   "id": "655b55be",
   "metadata": {},
   "outputs": [
    {
     "name": "stdout",
     "output_type": "stream",
     "text": [
      "📥 Leyendo datos de empleados...\n"
     ]
    }
   ],
   "source": [
    "# Leer los datos\n",
    "print(\"📥 Leyendo datos de empleados...\")\n",
    "df = pd.read_csv(ruta_data)"
   ]
  },
  {
   "cell_type": "code",
   "execution_count": 25,
   "id": "6be17d1f",
   "metadata": {},
   "outputs": [],
   "source": [
    "# Verificar si la columna 'renuncia' existe y ajustar el dataframe\n",
    "if \"renuncia\" in df.columns:\n",
    "    X_nuevo = df.drop(columns=[\"ID Empleado\", \"Nombre\", \"Apellido\", \"renuncia\"])\n",
    "else:\n",
    "    X_nuevo = df.drop(columns=[\"ID Empleado\", \"Nombre\", \"Apellido\"])"
   ]
  },
  {
   "cell_type": "code",
   "execution_count": 26,
   "id": "81d8d2d9",
   "metadata": {},
   "outputs": [
    {
     "name": "stdout",
     "output_type": "stream",
     "text": [
      "📦 Cargando modelos entrenados...\n"
     ]
    }
   ],
   "source": [
    "# Cargar modelos entrenados\n",
    "print(\"📦 Cargando modelos entrenados...\")\n",
    "modelo_rf = joblib.load(ruta_modelo_rf)\n",
    "modelo_svm = joblib.load(ruta_modelo_svm)\n"
   ]
  },
  {
   "cell_type": "code",
   "execution_count": 27,
   "id": "7cac710f",
   "metadata": {},
   "outputs": [
    {
     "name": "stdout",
     "output_type": "stream",
     "text": [
      "🤖 Generando predicciones...\n"
     ]
    }
   ],
   "source": [
    "# Generar predicciones\n",
    "print(\"🤖 Generando predicciones...\")\n",
    "df[\"pred_rf\"] = modelo_rf.predict(X_nuevo)\n",
    "df[\"pred_svm\"] = modelo_svm.predict(X_nuevo)"
   ]
  },
  {
   "cell_type": "code",
   "execution_count": 29,
   "id": "3de04b90",
   "metadata": {},
   "outputs": [
    {
     "name": "stdout",
     "output_type": "stream",
     "text": [
      "✅ Predicciones guardadas en: ../Random Forest y SVM - Resultados/predicciones_empleados.csv\n"
     ]
    }
   ],
   "source": [
    "# Guardar resultados en CSV\n",
    "salida_path = \"../Random Forest y SVM - Resultados/predicciones_empleados.csv\"\n",
    "os.makedirs(os.path.dirname(salida_path), exist_ok=True)\n",
    "df.to_csv(salida_path, index=False)\n",
    "\n",
    "print(f\"✅ Predicciones guardadas en: {salida_path}\")"
   ]
  }
 ],
 "metadata": {
  "kernelspec": {
   "display_name": "venv_ML_IDL01",
   "language": "python",
   "name": "python3"
  },
  "language_info": {
   "codemirror_mode": {
    "name": "ipython",
    "version": 3
   },
   "file_extension": ".py",
   "mimetype": "text/x-python",
   "name": "python",
   "nbconvert_exporter": "python",
   "pygments_lexer": "ipython3",
   "version": "3.13.5"
  }
 },
 "nbformat": 4,
 "nbformat_minor": 5
}
